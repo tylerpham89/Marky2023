{
 "cells": [
  {
   "cell_type": "code",
   "execution_count": 131,
   "metadata": {},
   "outputs": [],
   "source": [
    "# import pandas as pd\n",
    "# file = 'replicated_test.csv'\n",
    "\n",
    "# df = pd.read_csv(file)\n",
    "# df[\"created_at\"], df[\"user_created_at\"]\n",
    "\n",
    "# df['created_at'] = pd.to_datetime(df['created_at'])\n",
    "# # Extract the hour component from the datetime column\n",
    "# hour_list = df['created_at'].dt.hour.tolist()\n",
    "# df['created_at'] = hour_list"
   ]
  },
  {
   "cell_type": "code",
   "execution_count": 132,
   "metadata": {},
   "outputs": [],
   "source": [
    "\n",
    "# df['user_created_at'] = pd.to_datetime(df['user_created_at'])\n",
    "# # Extract the hour component from the datetime column\n",
    "# hour_list = df['user_created_at'].dt.hour.tolist()\n",
    "# df['user_created_at'] = hour_list"
   ]
  },
  {
   "cell_type": "code",
   "execution_count": 134,
   "metadata": {},
   "outputs": [],
   "source": [
    "# import pandas as pd\n",
    "# input_filename = 'replicated_test.csv'\n",
    "\n",
    "# df = pd.read_csv(input_filename)\n",
    "\n",
    "# # user_id = df[\"user_id\"]\n",
    "# newList = []\n",
    "# uid_counts = {}\n",
    "\n",
    "# for index, row in df.iterrows():\n",
    "#     user_id = row['user_id']\n",
    "#     # approved = row['approved']\n",
    "\n",
    "#     if user_id in uid_counts:\n",
    "#         uid_counts[user_id] += 1\n",
    "#     else:\n",
    "#         uid_counts[user_id] = 1\n",
    "#     newList.append(uid_counts[user_id])\n",
    "    \n",
    "#     # if approved:\n",
    "#     #     uid_counts[user_id] = 0\n",
    "# print(newList)\n",
    "# df[\"user_id\"] = newList"
   ]
  },
  {
   "cell_type": "code",
   "execution_count": 135,
   "metadata": {},
   "outputs": [],
   "source": [
    "# df2 = pd.read_csv(input_filename)\n",
    "\n",
    "# # user_id = df[\"user_id\"]\n",
    "# newList2 = []\n",
    "# uid_counts2 = {}\n",
    "\n",
    "# for index, row in df2.iterrows():\n",
    "#     user_id = row['user_id']\n",
    "#     approved = row['approved']\n",
    "\n",
    "#     if user_id in uid_counts2:\n",
    "#         uid_counts2[user_id] += 1\n",
    "#     else:\n",
    "#         uid_counts2[user_id] = 1\n",
    "#     newList2.append(uid_counts2[user_id])\n",
    "# print(newList2)\n",
    "# df[\"user_id_total\"] = newList2"
   ]
  },
  {
   "cell_type": "code",
   "execution_count": 136,
   "metadata": {},
   "outputs": [],
   "source": [
    "# df\n",
    "# df.to_csv(input_filename)"
   ]
  },
  {
   "cell_type": "code",
   "execution_count": 137,
   "metadata": {},
   "outputs": [],
   "source": [
    "# approved_rows = df2[df2['approved'] == True]\n",
    "\n",
    "# # Extract the 'user_id' values from the selected rows\n",
    "# user_ids_for_approved = approved_rows['user_id']\n",
    "# user_ids_for_approved.to_csv('hi.csv', index=False)\n",
    "# user_ids_list = user_ids_for_approved.tolist()\n",
    "\n",
    "\n",
    "# from collections import Counter\n",
    "# counter = Counter(user_ids_list)\n",
    "\n",
    "# # Get the most common elements and their counts\n",
    "# most_common = counter.most_common()\n",
    "\n",
    "# # Print the most popular values\n",
    "# for value, count in most_common:\n",
    "#     print(f\"{value}: {count} times\")\n"
   ]
  }
 ],
 "metadata": {
  "kernelspec": {
   "display_name": "Python 3",
   "language": "python",
   "name": "python3"
  },
  "language_info": {
   "codemirror_mode": {
    "name": "ipython",
    "version": 3
   },
   "file_extension": ".py",
   "mimetype": "text/x-python",
   "name": "python",
   "nbconvert_exporter": "python",
   "pygments_lexer": "ipython3",
   "version": "3.10.8"
  }
 },
 "nbformat": 4,
 "nbformat_minor": 2
}
