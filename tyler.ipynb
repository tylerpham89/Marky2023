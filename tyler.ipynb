{
 "cells": [
  {
   "cell_type": "code",
   "execution_count": 45,
   "metadata": {},
   "outputs": [
    {
     "name": "stdout",
     "output_type": "stream",
     "text": [
      "[3, 4, 3, 3, 5, 4, 5, 1, 5, 3, 3, 4, 5, 11, 3, 2, 2, 5, 4, 5, 3, 4, 2, 2, 5, 5, 1, 3, 3, 12, 4, 6, 3, 3, 4, 5, 5, 4, 4, 4, 3, 5, 4, 4, 3, 3, 3, 3, 4, 1, 8, 4, 2, 4, 6, 7, 0, 5, 4, 6, 5, 3, 4, 1, 4, 3, 4, 0, 5, 6, 6, 5, 6, 4, 5, 3, 8, 4, 4, 4, 5, 4, 4, 0, 5, 5, 10, 5, 2, 1, 4, 9, 3, 4, 5, 10, 4, 4, 5, 3, 4, 5, 5, 4, 5, 5, 3, 4, 3, 2, 2, 4, 4, 6, 4, 1, 2, 4, 4, 4, 6, 1, 3, 6, 3, 4, 4, 8, 1, 4, 1, 4, 3, 5, 4, 4, 4, 1, 4, 3, 6, 1, 2, 5, 4, 3, 3, 5, 4, 6, 4, 2, 3, 4, 4, 4, 5, 9, 5, 6, 5, 3, 5, 0, 4, 4, 2, 6, 3, 5, 4, 4, 4, 1, 2, 5, 5, 4, 4, 6, 4, 3, 4, 3, 6, 5, 5, 5, 2, 3, 6, 3, 4, 3, 4, 4, 3, 7, 2, 5, 3, 2, 4, 4, 4, 5, 3, 5, 2, 2, 3, 3, 4, 8, 3, 3, 4, 6, 6, 5, 4, 1, 2, 3, 6, 4, 4, 2, 8, 2, 3, 5, 4, 4, 4, 4, 7, 4, 5, 4, 0, 1, 3, 6, 5, 4, 2, 11, 5, 3, 1, 5, 2, 6, 5, 5, 4, 4, 5, 3, 5, 5, 5, 5, 4, 5, 7, 5, 4, 3, 4, 6, 2, 5, 1, 5, 6, 5, 4, 5, 6, 5, 2, 2, 3, 3, 1, 6, 6, 3, 2, 4, 3, 6, 6, 5, 5, 5, 4, 2, 5, 6, 2, 6, 4, 10, 3, 10, 3, 4, 4, 3, 3, 3, 5, 3, 5, 3, 6, 3, 4, 3, 1, 2, 4, 4, 4, 3, 5, 3, 8, 3, 7, 3, 6, 5, 4, 4, 3, 8, 3, 4, 4, 5, 3, 2, 5, 6, 5, 7, 1, 4, 3, 5, 5, 5, 10, 5, 3, 3, 6, 3, 5, 3, 4, 4, 0, 3, 4, 5, 5, 3, 12, 5, 2, 3, 4, 1, 1, 4, 4, 8, 3, 3, 2, 5, 6, 3, 5, 4, 3, 9, 2, 1, 4, 4, 3, 1, 4, 5, 6, 7, 3, 2, 3, 6, 4, 2, 3, 4, 4, 3, 1, 5, 6, 2, 5, 4, 5, 5, 4, 5, 2, 3, 4, 4, 3, 2, 4, 1, 5, 4, 8, 3, 8, 2, 4, 4, 4, 0, 5, 2, 5, 7, 5, 1, 4, 4, 5, 6, 4, 5, 3, 5, 2, 11, 3, 3, 3, 4, 0, 4, 5, 5, 6, 6, 3, 6, 3, 3, 7, 5, 4, 3, 3, 1, 2, 4, 3, 2, 3, 4, 4, 4, 3, 3, 4, 5, 3, 5, 3, 4, 4, 3, 3, 6, 5, 3, 5, 2, 2, 3, 3, 4, 3, 6, 5, 0, 3, 5, 4, 3, 5, 4, 4, 3, 0, 3, 3, 2, 3, 5, 3, 4, 3, 4, 3, 4, 2, 0, 4, 5, 3, 4, 6, 5, 5, 4, 5, 2, 3, 2, 7, 5, 3, 5, 3, 3, 4, 10, 5, 5, 4, 4, 3, 4, 4, 3, 5, 3, 4, 5, 4, 5, 3, 3, 5, 3, 5, 3, 3, 2, 6, 4, 7, 5, 4, 2, 0, 2, 5, 6, 5, 3, 3, 3, 3, 5, 3, 4, 5, 2, 3, 1, 5, 2, 4, 8, 5, 3, 3, 4, 2, 3, 2, 6, 4, 3, 2, 3, 3, 3, 3, 7, 2, 4, 3, 1, 4, 3, 5, 10, 4, 3, 5, 5, 4, 4, 1, 2, 0, 7, 4, 6, 4, 2, 4, 2, 5, 3, 6, 5, 5, 1, 5, 6, 3, 3, 4, 4, 2, 3, 1, 3, 2, 2, 3, 4, 5, 5, 5, 5, 4, 4, 5, 5, 5, 4, 2, 3, 4, 4, 6, 4, 4, 3, 5, 4, 6, 1, 4, 3, 4, 5, 3, 4, 8, 4, 6, 3, 4, 1, 5, 4, 5, 4, 5, 4, 4, 4, 5, 6, 5, 7, 5, 4, 5, 3, 3, 3, 3, 4, 8, 5, 3, 2, 6, 6, 4, 6, 6, 2, 3, 3, 6, 3, 3, 3, 4, 6, 2, 3, 4, 4, 2, 3, 7, 4, 5, 3, 4, 3, 5, 3, 0, 4, 3, 0, 3, 5, 2, 6, 5, 2, 2, 4, 4, 5, 2, 1, 3, 7, 6, 5, 3, 4, 4, 5, 3, 3, 5, 3, 5, 4, 0, 5, 4, 3, 4, 4, 4, 1, 5, 2, 6, 6, 7, 3, 4, 1, 3, 4, 3, 2, 3, 3, 4, 4, 3, 3, 4, 4, 4, 3, 3, 4, 2, 4, 3, 5, 6, 1, 7, 5, 3, 4, 5, 2, 5, 4, 4, 4, 3, 2, 5, 7, 5, 4, 3, 5, 3, 6, 1, 7, 2, 5, 3, 4, 3, 5, 3, 4, 5, 6, 4, 4, 6, 4, 6, 3, 4, 7, 5, 4, 3, 3, 1, 3, 6, 4, 3, 1, 7, 3, 4, 4, 6, 5, 3, 3, 2, 6, 2, 3, 4, 4, 2, 5, 5, 3, 1, 4, 3, 6, 3, 4, 5, 3, 5, 5, 4, 6, 15, 5, 3, 5, 3, 0, 2, 3, 5, 7, 2, 1, 6, 2, 5, 0, 3, 6, 3, 3, 4, 3, 4, 4, 4, 2, 4, 5, 8, 4, 5, 2, 4, 5, 7, 3, 3, 5, 3, 6, 4, 5, 4, 3, 6, 1, 3, 4, 12, 1, 5, 6, 5, 4, 3, 5, 3, 4, 1, 5, 4, 4, 4, 3, 4, 3, 2, 4, 3, 3, 3, 2, 6, 4, 6, 4, 2, 4, 6, 2, 4, 2, 2, 5, 3, 6, 5, 2, 4, 4, 5, 3, 3, 1, 4, 5, 4, 3, 2, 2, 2, 4, 5, 6, 3, 5, 6, 10, 5, 2, 5, 5, 4, 1, 2, 3, 3, 3, 5, 7, 9, 4, 5, 5, 5, 3, 3, 4, 4, 1, 3, 4, 3, 8, 6, 3, 0, 3, 4, 5, 3, 2, 4, 2, 4, 3, 4, 7, 4, 10, 4, 3, 5, 4, 4, 4, 4, 3, 3, 3, 3, 3, 4, 3, 5, 3, 5, 2, 3, 9, 6, 5, 5, 2, 3, 1, 5, 5, 4, 5, 3, 7, 2, 4, 3, 4, 4, 6, 5, 4, 0, 5, 4, 3, 3, 3, 6, 4, 4, 6, 2, 4, 5, 4, 3, 2, 3, 4, 5, 8, 3, 3, 5, 4, 4, 4, 4, 6, 3, 4, 5, 5, 3, 5, 5, 4, 3, 1, 5, 5, 3, 3, 4, 5, 5, 1, 4, 6, 6, 3, 6, 2, 3, 0, 4, 2, 4, 4, 2, 5, 2, 0, 4, 3, 6, 2, 2, 3, 1, 5, 3, 5, 4, 2, 4, 3, 3, 3, 3, 4, 4, 5, 1, 3, 2, 7, 6, 4, 5, 3, 3, 1, 2, 5, 3, 5, 1, 4, 3, 4, 6, 1, 6, 5, 3, 12, 4, 5, 4, 4, 1, 2, 0, 2, 3, 5, 5, 4, 3, 4, 0, 6, 4, 2, 1, 4, 3, 5, 5, 4, 4, 6, 2, 5, 3, 4, 6, 5, 3, 6, 7, 3, 5, 5, 2, 7, 4, 2, 2, 3, 5, 2, 4, 4, 2, 3, 2, 5, 1, 6, 13, 4, 6, 6, 5, 4, 2, 2, 4, 2, 2, 5, 6, 3, 3, 4, 1, 3, 6, 3, 3, 2, 5, 5, 3, 4, 6, 4, 3, 2, 4, 5, 4, 4, 2, 3, 4, 2, 6, 2, 4, 3, 2, 5, 4, 14, 4, 4, 3, 5, 5, 3, 2, 4, 4, 5, 4, 5, 4, 4, 3, 2, 5, 4, 3, 0, 4, 3, 5, 3, 4, 5, 4, 4, 6, 2, 3, 6, 5, 7, 4, 3, 1, 9, 3, 4, 5, 4, 7, 2, 4, 4]\n"
     ]
    },
    {
     "ename": "ValueError",
     "evalue": "Length of values (1334) does not match length of index (6576)",
     "output_type": "error",
     "traceback": [
      "\u001b[1;31m---------------------------------------------------------------------------\u001b[0m",
      "\u001b[1;31mValueError\u001b[0m                                Traceback (most recent call last)",
      "\u001b[1;32mc:\\Users\\benyk\\OneDrive\\Documents\\MarkyAI\\Marky2023\\tyler.ipynb Cell 1\u001b[0m line \u001b[0;36m6\n\u001b[0;32m     <a href='vscode-notebook-cell:/c%3A/Users/benyk/OneDrive/Documents/MarkyAI/Marky2023/tyler.ipynb#W0sZmlsZQ%3D%3D?line=65'>66</a>\u001b[0m     newList\u001b[39m.\u001b[39mappend(score)\n\u001b[0;32m     <a href='vscode-notebook-cell:/c%3A/Users/benyk/OneDrive/Documents/MarkyAI/Marky2023/tyler.ipynb#W0sZmlsZQ%3D%3D?line=66'>67</a>\u001b[0m \u001b[39mprint\u001b[39m(newList)\n\u001b[1;32m---> <a href='vscode-notebook-cell:/c%3A/Users/benyk/OneDrive/Documents/MarkyAI/Marky2023/tyler.ipynb#W0sZmlsZQ%3D%3D?line=68'>69</a>\u001b[0m data[\u001b[39m\"\u001b[39;49m\u001b[39msame_parameters_chapter_title\u001b[39;49m\u001b[39m\"\u001b[39;49m] \u001b[39m=\u001b[39m newList\n\u001b[0;32m     <a href='vscode-notebook-cell:/c%3A/Users/benyk/OneDrive/Documents/MarkyAI/Marky2023/tyler.ipynb#W0sZmlsZQ%3D%3D?line=70'>71</a>\u001b[0m \u001b[39m# data.to_csv('train.csv')\u001b[39;00m\n\u001b[0;32m     <a href='vscode-notebook-cell:/c%3A/Users/benyk/OneDrive/Documents/MarkyAI/Marky2023/tyler.ipynb#W0sZmlsZQ%3D%3D?line=71'>72</a>\u001b[0m \u001b[39m# data\u001b[39;00m\n",
      "File \u001b[1;32m~\\AppData\\Local\\Packages\\PythonSoftwareFoundation.Python.3.10_qbz5n2kfra8p0\\LocalCache\\local-packages\\Python310\\site-packages\\pandas\\core\\frame.py:4091\u001b[0m, in \u001b[0;36mDataFrame.__setitem__\u001b[1;34m(self, key, value)\u001b[0m\n\u001b[0;32m   4088\u001b[0m     \u001b[39mself\u001b[39m\u001b[39m.\u001b[39m_setitem_array([key], value)\n\u001b[0;32m   4089\u001b[0m \u001b[39melse\u001b[39;00m:\n\u001b[0;32m   4090\u001b[0m     \u001b[39m# set column\u001b[39;00m\n\u001b[1;32m-> 4091\u001b[0m     \u001b[39mself\u001b[39;49m\u001b[39m.\u001b[39;49m_set_item(key, value)\n",
      "File \u001b[1;32m~\\AppData\\Local\\Packages\\PythonSoftwareFoundation.Python.3.10_qbz5n2kfra8p0\\LocalCache\\local-packages\\Python310\\site-packages\\pandas\\core\\frame.py:4300\u001b[0m, in \u001b[0;36mDataFrame._set_item\u001b[1;34m(self, key, value)\u001b[0m\n\u001b[0;32m   4290\u001b[0m \u001b[39mdef\u001b[39;00m \u001b[39m_set_item\u001b[39m(\u001b[39mself\u001b[39m, key, value) \u001b[39m-\u001b[39m\u001b[39m>\u001b[39m \u001b[39mNone\u001b[39;00m:\n\u001b[0;32m   4291\u001b[0m \u001b[39m    \u001b[39m\u001b[39m\"\"\"\u001b[39;00m\n\u001b[0;32m   4292\u001b[0m \u001b[39m    Add series to DataFrame in specified column.\u001b[39;00m\n\u001b[0;32m   4293\u001b[0m \n\u001b[1;32m   (...)\u001b[0m\n\u001b[0;32m   4298\u001b[0m \u001b[39m    ensure homogeneity.\u001b[39;00m\n\u001b[0;32m   4299\u001b[0m \u001b[39m    \"\"\"\u001b[39;00m\n\u001b[1;32m-> 4300\u001b[0m     value, refs \u001b[39m=\u001b[39m \u001b[39mself\u001b[39;49m\u001b[39m.\u001b[39;49m_sanitize_column(value)\n\u001b[0;32m   4302\u001b[0m     \u001b[39mif\u001b[39;00m (\n\u001b[0;32m   4303\u001b[0m         key \u001b[39min\u001b[39;00m \u001b[39mself\u001b[39m\u001b[39m.\u001b[39mcolumns\n\u001b[0;32m   4304\u001b[0m         \u001b[39mand\u001b[39;00m value\u001b[39m.\u001b[39mndim \u001b[39m==\u001b[39m \u001b[39m1\u001b[39m\n\u001b[0;32m   4305\u001b[0m         \u001b[39mand\u001b[39;00m \u001b[39mnot\u001b[39;00m \u001b[39misinstance\u001b[39m(value\u001b[39m.\u001b[39mdtype, ExtensionDtype)\n\u001b[0;32m   4306\u001b[0m     ):\n\u001b[0;32m   4307\u001b[0m         \u001b[39m# broadcast across multiple columns if necessary\u001b[39;00m\n\u001b[0;32m   4308\u001b[0m         \u001b[39mif\u001b[39;00m \u001b[39mnot\u001b[39;00m \u001b[39mself\u001b[39m\u001b[39m.\u001b[39mcolumns\u001b[39m.\u001b[39mis_unique \u001b[39mor\u001b[39;00m \u001b[39misinstance\u001b[39m(\u001b[39mself\u001b[39m\u001b[39m.\u001b[39mcolumns, MultiIndex):\n",
      "File \u001b[1;32m~\\AppData\\Local\\Packages\\PythonSoftwareFoundation.Python.3.10_qbz5n2kfra8p0\\LocalCache\\local-packages\\Python310\\site-packages\\pandas\\core\\frame.py:5039\u001b[0m, in \u001b[0;36mDataFrame._sanitize_column\u001b[1;34m(self, value)\u001b[0m\n\u001b[0;32m   5036\u001b[0m     \u001b[39mreturn\u001b[39;00m _reindex_for_setitem(value, \u001b[39mself\u001b[39m\u001b[39m.\u001b[39mindex)\n\u001b[0;32m   5038\u001b[0m \u001b[39mif\u001b[39;00m is_list_like(value):\n\u001b[1;32m-> 5039\u001b[0m     com\u001b[39m.\u001b[39;49mrequire_length_match(value, \u001b[39mself\u001b[39;49m\u001b[39m.\u001b[39;49mindex)\n\u001b[0;32m   5040\u001b[0m \u001b[39mreturn\u001b[39;00m sanitize_array(value, \u001b[39mself\u001b[39m\u001b[39m.\u001b[39mindex, copy\u001b[39m=\u001b[39m\u001b[39mTrue\u001b[39;00m, allow_2d\u001b[39m=\u001b[39m\u001b[39mTrue\u001b[39;00m), \u001b[39mNone\u001b[39;00m\n",
      "File \u001b[1;32m~\\AppData\\Local\\Packages\\PythonSoftwareFoundation.Python.3.10_qbz5n2kfra8p0\\LocalCache\\local-packages\\Python310\\site-packages\\pandas\\core\\common.py:561\u001b[0m, in \u001b[0;36mrequire_length_match\u001b[1;34m(data, index)\u001b[0m\n\u001b[0;32m    557\u001b[0m \u001b[39m\u001b[39m\u001b[39m\"\"\"\u001b[39;00m\n\u001b[0;32m    558\u001b[0m \u001b[39mCheck the length of data matches the length of the index.\u001b[39;00m\n\u001b[0;32m    559\u001b[0m \u001b[39m\"\"\"\u001b[39;00m\n\u001b[0;32m    560\u001b[0m \u001b[39mif\u001b[39;00m \u001b[39mlen\u001b[39m(data) \u001b[39m!=\u001b[39m \u001b[39mlen\u001b[39m(index):\n\u001b[1;32m--> 561\u001b[0m     \u001b[39mraise\u001b[39;00m \u001b[39mValueError\u001b[39;00m(\n\u001b[0;32m    562\u001b[0m         \u001b[39m\"\u001b[39m\u001b[39mLength of values \u001b[39m\u001b[39m\"\u001b[39m\n\u001b[0;32m    563\u001b[0m         \u001b[39mf\u001b[39m\u001b[39m\"\u001b[39m\u001b[39m(\u001b[39m\u001b[39m{\u001b[39;00m\u001b[39mlen\u001b[39m(data)\u001b[39m}\u001b[39;00m\u001b[39m) \u001b[39m\u001b[39m\"\u001b[39m\n\u001b[0;32m    564\u001b[0m         \u001b[39m\"\u001b[39m\u001b[39mdoes not match length of index \u001b[39m\u001b[39m\"\u001b[39m\n\u001b[0;32m    565\u001b[0m         \u001b[39mf\u001b[39m\u001b[39m\"\u001b[39m\u001b[39m(\u001b[39m\u001b[39m{\u001b[39;00m\u001b[39mlen\u001b[39m(index)\u001b[39m}\u001b[39;00m\u001b[39m)\u001b[39m\u001b[39m\"\u001b[39m\n\u001b[0;32m    566\u001b[0m     )\n",
      "\u001b[1;31mValueError\u001b[0m: Length of values (1334) does not match length of index (6576)"
     ]
    }
   ],
   "source": [
    "import pandas as pd\n",
    "# file = 'train.csv'\n",
    "# data = pd.read_csv(file)\n",
    "\n",
    "# # Access the 'caption' column\n",
    "# captions = data['parameters_chapter_title']\n",
    "\n",
    "# # Function to count the number of words in a caption\n",
    "# def count_words(caption):\n",
    "\n",
    "#     words = caption.split()  # Split the caption into words\n",
    "\n",
    "#     return len(words)  # Return the count of words\n",
    "\n",
    "# # Calculate the number of words in each caption\n",
    "# num_words_per_caption = captions.apply(count_words)\n",
    "\n",
    "# print(num_words_per_caption)\n",
    "\n",
    "file_path = 'train.csv'  \n",
    "df = pd.read_csv(file_path)\n",
    "\n",
    "for column in df.columns:\n",
    "    for i in range(df[column].size):\n",
    "        if(pd.isna(df[column][i])):\n",
    "            df.loc[i, column] = \"NaN\"\n",
    "\n",
    "approved_true_data = df[df['approved'] == True]['parameters_chapter_title']\n",
    "approved_true_data\n",
    "\n",
    "# Concatenate all text from the 'approved' column\n",
    "all_approved_text = ' '.join(approved_true_data)\n",
    "\n",
    "# Split the text into individual words and get unique words\n",
    "unique_words = list(set(all_approved_text.split()))\n",
    "\n",
    "\n",
    "file_path_all = 'train.csv'  \n",
    "data = pd.read_csv(file_path)\n",
    "\n",
    "for column in data.columns:\n",
    "    for i in range(data[column].size):\n",
    "        if(pd.isna(data[column][i])):\n",
    "            data.loc[i, column] = \"NaN\"\n",
    "\n",
    "captions = data['parameters_chapter_title'].tolist()\n",
    "\n",
    "\n",
    "\n",
    "# Function to calculate the score based on word matching\n",
    "def calculate_score(caption, unique_words):\n",
    "    caption_words = set(caption.split())\n",
    "    match_count = len(caption_words.intersection(unique_words))\n",
    "    return match_count\n",
    "\n",
    "# Calculate scores for each caption\n",
    "caption_scores = {}\n",
    "for caption in captions:\n",
    "    score = calculate_score(caption, unique_words)\n",
    "    caption_scores[caption] = score\n",
    "        \n",
    "\n",
    "# Display scores for each caption\n",
    "newList = []\n",
    "for caption, score in caption_scores.items():\n",
    "    newList.append(score)\n",
    "print(newList)\n",
    "\n",
    "data[\"same_parameters_chapter_title\"] = newList\n",
    "\n",
    "# data.to_csv('train.csv')\n",
    "# data\n"
   ]
  }
 ],
 "metadata": {
  "kernelspec": {
   "display_name": "Python 3",
   "language": "python",
   "name": "python3"
  },
  "language_info": {
   "codemirror_mode": {
    "name": "ipython",
    "version": 3
   },
   "file_extension": ".py",
   "mimetype": "text/x-python",
   "name": "python",
   "nbconvert_exporter": "python",
   "pygments_lexer": "ipython3",
   "version": "3.10.11"
  },
  "orig_nbformat": 4
 },
 "nbformat": 4,
 "nbformat_minor": 2
}
