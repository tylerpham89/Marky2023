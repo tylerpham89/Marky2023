{
 "cells": [
  {
   "cell_type": "code",
   "execution_count": null,
   "metadata": {},
   "outputs": [],
   "source": [
    "import pandas as pd\n",
    "from collections import Counter\n",
    "\n",
    "# Load the CSV file\n",
    "df = pd.read_csv('train.csv')\n",
    "\n",
    "# Filter the 'caption' column based on the 'approved' column being 'True'\n",
    "filtered_column_data = df.loc[df['approved'] == True, 'caption']\n",
    "\n",
    "# Join the filtered column data into a single string\n",
    "selected_text = ' '.join(filtered_column_data)\n",
    "\n",
    "# Split the selected text into words\n",
    "selected_words = selected_text.split()\n",
    "\n",
    "# Count the frequency of each word\n",
    "word_count = Counter(selected_words)\n",
    "\n",
    "# Get the top common words\n",
    "num_common_words = 10  # Change this to the number of top common words you want\n",
    "common_words = [word for word, _ in word_count.most_common(num_common_words)]\n",
    "\n",
    "# Update the 'caption' column in the 'approved' rows\n",
    "df.loc[df['approved'] == True, 'caption'] = df.loc[df['approved'] == True, 'caption'].apply(\n",
    "    lambda x: ' '.join([word for word in x.split() if word in common_words])\n",
    ")\n",
    "\n",
    "# Display the updated DataFrame\n",
    "df"
   ]
  }
 ],
 "metadata": {
  "language_info": {
   "name": "python"
  },
  "orig_nbformat": 4
 },
 "nbformat": 4,
 "nbformat_minor": 2
}
