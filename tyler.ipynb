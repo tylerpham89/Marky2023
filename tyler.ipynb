{
 "cells": [
  {
   "cell_type": "code",
   "execution_count": 33,
   "metadata": {},
   "outputs": [
    {
     "ename": "SyntaxError",
     "evalue": "'return' outside function (3126521309.py, line 51)",
     "output_type": "error",
     "traceback": [
      "\u001b[1;36m  Cell \u001b[1;32mIn[33], line 51\u001b[1;36m\u001b[0m\n\u001b[1;33m    return caption\u001b[0m\n\u001b[1;37m    ^\u001b[0m\n\u001b[1;31mSyntaxError\u001b[0m\u001b[1;31m:\u001b[0m 'return' outside function\n"
     ]
    }
   ],
   "source": [
    "import pandas as pd\n",
    "# file = 'train.csv'\n",
    "# data = pd.read_csv(file)\n",
    "\n",
    "# # Access the 'caption' column\n",
    "# captions = data['parameters_chapter_title']\n",
    "\n",
    "# # Function to count the number of words in a caption\n",
    "# def count_words(caption):\n",
    "\n",
    "#     words = caption.split()  # Split the caption into words\n",
    "\n",
    "#     return len(words)  # Return the count of words\n",
    "\n",
    "# # Calculate the number of words in each caption\n",
    "# num_words_per_caption = captions.apply(count_words)\n",
    "\n",
    "# print(num_words_per_caption)\n",
    "\n",
    "file_path = 'train.csv'  \n",
    "df = pd.read_csv(file_path)\n",
    "approved_true_data = df[df['approved'] == True]['parameters_chapter_title']\n",
    "approved_true_data\n",
    "\n",
    "# Concatenate all text from the 'approved' column\n",
    "all_approved_text = ' '.join(approved_true_data)\n",
    "\n",
    "# Split the text into individual words and get unique words\n",
    "unique_words = list(set(all_approved_text.split()))\n",
    "\n",
    "\n",
    "file_path_all = 'train.csv'  \n",
    "data = pd.read_csv(file_path)\n",
    "\n",
    "captions = data['parameters_chapter_title'].tolist()\n",
    "\n",
    "# Function to calculate the score based on word matching\n",
    "def calculate_score(caption, unique_words):\n",
    "    caption_words = set(caption.split())\n",
    "    match_count = len(caption_words.intersection(unique_words))\n",
    "    return match_count\n",
    "\n",
    "# Calculate scores for each caption\n",
    "caption_scores = {}\n",
    "for caption in captions:\n",
    "    try:\n",
    "        score = calculate_score(caption, unique_words)\n",
    "        caption_scores[caption] = score\n",
    "    except Exception as e:\n",
    "        print(f\"An error occurred: {e}\")\n",
    "        \n",
    "\n",
    "# Display scores for each caption\n",
    "newList = []\n",
    "for caption, score in caption_scores.items():\n",
    "    newList.append(score)\n",
    "print(newList)\n",
    "\n",
    "data[\"same_parameters_chapter_title\"] = newList\n",
    "\n",
    "# data.to_csv('train.csv')\n",
    "# data\n"
   ]
  }
 ],
 "metadata": {
  "kernelspec": {
   "display_name": "Python 3",
   "language": "python",
   "name": "python3"
  },
  "language_info": {
   "codemirror_mode": {
    "name": "ipython",
    "version": 3
   },
   "file_extension": ".py",
   "mimetype": "text/x-python",
   "name": "python",
   "nbconvert_exporter": "python",
   "pygments_lexer": "ipython3",
   "version": "3.10.11"
  },
  "orig_nbformat": 4
 },
 "nbformat": 4,
 "nbformat_minor": 2
}
