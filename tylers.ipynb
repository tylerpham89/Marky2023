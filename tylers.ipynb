{
 "cells": [
  {
   "cell_type": "code",
   "execution_count": null,
   "metadata": {},
   "outputs": [],
   "source": [
    "import csv\n",
    "\n",
    "with open('test.csv', 'r') as file:\n",
    "    reader = csv.DictReader(file)\n",
    "    # Access the column you're interested in\n",
    "    column_data = [row['caption'] for row in reader]\n",
    "    \n",
    "import pandas as pd\n",
    "\n",
    "df = pd.read_csv('test.csv')\n",
    "\n",
    "\n",
    "column_data = df['caption'].tolist()\n",
    "text = ' '.join (column_data)\n",
    "words = text.split()\n",
    "\n",
    "word_count = {}\n",
    "\n",
    "for word in words: \n",
    "    if word in word_count:\n",
    "        word_count[word] += 1 \n",
    "    else:\n",
    "        word_count[word] = 1 \n",
    "        \n",
    "num_common_words = 20\n",
    "common_words = sorted(word_count, key=word_count.get, reverse=True)[:num_common_words]\n",
    "\n",
    "print(\"Most common words:\", common_words) "
   ]
  }
 ],
 "metadata": {
  "language_info": {
   "name": "python"
  },
  "orig_nbformat": 4
 },
 "nbformat": 4,
 "nbformat_minor": 2
}
