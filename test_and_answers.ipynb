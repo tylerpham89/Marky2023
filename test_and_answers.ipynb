{
 "cells": [
  {
   "cell_type": "code",
   "execution_count": 2,
   "metadata": {},
   "outputs": [],
   "source": [
    "import pandas as pd\n",
    "\n",
    "# Read the existing CSV file\n",
    "existing_file_path = 'answer.csv'\n",
    "existing_data = pd.read_csv(existing_file_path)\n",
    "\n",
    "# Read the new CSV file to extract the first column\n",
    "new_file_path = 'test.csv'\n",
    "new_data = pd.read_csv(new_file_path)\n",
    "\n",
    "# Extract the first column from both CSV files\n",
    "first_column_existing = existing_data.iloc[:, 0]  # First column from the existing file\n",
    "first_column_new = new_data.iloc[:, 0]  # First column from the new file\n",
    "\n",
    "# Shift the existing first column data to the second column\n",
    "existing_data['Second Column'] = first_column_existing\n",
    "\n",
    "# Replace the first column in the existing file with the first column of the new file\n",
    "existing_data.iloc[:, 0] = first_column_new\n",
    "\n",
    "# Save the modified DataFrame back to the existing file\n",
    "existing_data.to_csv(existing_file_path, index=False)  # Set index=False to avoid writing row indices to the file\n"
   ]
  }
 ],
 "metadata": {
  "kernelspec": {
   "display_name": "Python 3",
   "language": "python",
   "name": "python3"
  },
  "language_info": {
   "codemirror_mode": {
    "name": "ipython",
    "version": 3
   },
   "file_extension": ".py",
   "mimetype": "text/x-python",
   "name": "python",
   "nbconvert_exporter": "python",
   "pygments_lexer": "ipython3",
   "version": "3.10.11"
  }
 },
 "nbformat": 4,
 "nbformat_minor": 2
}
